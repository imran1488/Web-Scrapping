{
 "cells": [
  {
   "cell_type": "code",
   "execution_count": 1,
   "metadata": {},
   "outputs": [
    {
     "data": {
      "text/plain": [
       "['x', 'y', 'z']"
      ]
     },
     "execution_count": 1,
     "metadata": {},
     "output_type": "execute_result"
    }
   ],
   "source": [
    "row = ['x','y','z']\n",
    "[value for value in row]\n",
    "\n",
    " "
   ]
  },
  {
   "cell_type": "code",
   "execution_count": 2,
   "metadata": {},
   "outputs": [
    {
     "name": "stderr",
     "output_type": "stream",
     "text": [
      "C:\\Users\\lenovo\\AppData\\Roaming\\Python\\Python37\\site-packages\\ipykernel_launcher.py:27: UserWarning: Matplotlib is currently using module://ipykernel.pylab.backend_inline, which is a non-GUI backend, so cannot show the figure.\n"
     ]
    },
    {
     "data": {
      "image/png": "[encoded data removed]",
      "text/plain": [
       "<Figure size 648x360 with 1 Axes>"
      ]
     },
     "metadata": {
      "needs_background": "light"
     },
     "output_type": "display_data"
    }
   ],
   "source": [
    "import matplotlib.pyplot as plt\n",
    "import numpy as np\n",
    "\n",
    "def tanh(z):\n",
    "    ez = np.exp(z)\n",
    "    enz = np.exp(-z)\n",
    "    return (ez - enz)/ (ez + enz)\n",
    "\n",
    "# Calculate plot points\n",
    "z = np.arange(-4., 4., 0.01)\n",
    "a = tanh(z)\n",
    "dz = 1 - a**2\n",
    "\n",
    "# Setup centered axes\n",
    "fig, ax = plt.subplots(figsize=(9, 5))\n",
    "ax.spines['left'].set_position('center')\n",
    "ax.spines['bottom'].set_position('center')\n",
    "ax.spines['right'].set_color('none')\n",
    "ax.spines['top'].set_color('none')\n",
    "ax.xaxis.set_ticks_position('bottom')\n",
    "ax.yaxis.set_ticks_position('left')\n",
    "\n",
    "# Create and show plot\n",
    "ax.plot(z,a, color=\"#307EC7\", linewidth=3, label=\"tanh\")\n",
    "ax.plot(z,dz, color=\"#9621E2\", linewidth=3, label=\"derivative\")\n",
    "ax.legend(loc=\"upper right\", frameon=False)\n",
    "fig.show()"
   ]
  },
  {
   "cell_type": "code",
   "execution_count": 3,
   "metadata": {},
   "outputs": [],
   "source": [
    "import matplotlib.pyplot as plt\n",
    "import numpy as np\n",
    "\n",
    "def tanh(z):\n",
    "    ez = np.exp(z)\n",
    "    enz = np.exp(-z)\n",
    "    return (ez - enz)/ (ez + enz)\n",
    "\n",
    "# Calculate plot points\n",
    "z = np.arange(-4., 4., 0.01)\n",
    "a = tanh(z)\n",
    "dz = 1 - a**2"
   ]
  },
  {
   "cell_type": "code",
   "execution_count": 4,
   "metadata": {},
   "outputs": [],
   "source": [
    "import numpy as np\n",
    "\n",
    "def tanh(z):\n",
    "    ez = np.exp(z)\n",
    "    enz = np.exp(-z)\n",
    "    return (ez - enz)/(ez+enz)\n",
    "\n",
    "z = np.arange(-4.,4.,0.01)\n",
    "a = tanh(z)\n",
    "dz = 1-a**2\n"
   ]
  },
  {
   "cell_type": "code",
   "execution_count": 5,
   "metadata": {},
   "outputs": [],
   "source": [
    "from bs4 import BeautifulSoup"
   ]
  },
  {
   "cell_type": "code",
   "execution_count": 6,
   "metadata": {},
   "outputs": [],
   "source": [
    "import requests"
   ]
  },
  {
   "cell_type": "code",
   "execution_count": 7,
   "metadata": {},
   "outputs": [],
   "source": [
    "url = \"https://www.flipkart.com/lenovo-tab-m10-hd-2-gb-ram-32-rom-10-1-inch-wi-fi-only-tablet-slate-black/p/itm7b4e455b25c7e?pid=TABFKHFQEFDJEHBA&lid=LSTTABFKHFQEFDJEHBA39PSEP&marketplace=FLIPKART&srno=b_1_1&otracker=dynamic_omu_infinite_Top%2BDeals%2BOn%2BTablets_5_1.dealCard.OMU_INFINITE_OQYHLPP2OYDM&fm=neo%2Fmerchandising&iid=3b6c5e65-2f5c-40c4-bcbc-cb9450475825.TABFKHFQEFDJEHBA.SEARCH&ppt=browse&ppn=browse&ssid=e0p88z59ls0000001603183943194\""
   ]
  },
  {
   "cell_type": "code",
   "execution_count": 8,
   "metadata": {},
   "outputs": [],
   "source": [
    "req_data = requests.get(url)"
   ]
  },
  {
   "cell_type": "code",
   "execution_count": 9,
   "metadata": {},
   "outputs": [],
   "source": [
    "review_soup = BeautifulSoup(req_data.content,'html.parser')"
   ]
  },
  {
   "cell_type": "code",
   "execution_count": 13,
   "metadata": {},
   "outputs": [],
   "source": [
    "all_reviews = review_soup.find_all('div',{'class':'col _39LH-M'})"
   ]
  },
  {
   "cell_type": "code",
   "execution_count": 39,
   "metadata": {
    "scrolled": true
   },
   "outputs": [],
   "source": [
    "review_header_list = []\n",
    "detailed_review_list= []\n",
    "user_list = []\n",
    "likes_dislikes_list = []\n",
    "for review in all_reviews:\n",
    "    review_header = review.find_all('p',{'class':\"_2xg6Ul\"})\n",
    "    review_header = [e.get_text() for e in review_header]\n",
    "    review_header_list.append(review_header)\n",
    "    detailed_review = review.find_all('div',{'class':\"qwjRop\"})\n",
    "    detailed_review = [e.get_text() for e in detailed_review]\n",
    "    detailed_review_list.append(detailed_review)\n",
    "    user = review.find_all('p',{'class':\"_3LYOAd _3sxSiS\"})\n",
    "    user = [e.get_text() for e in user]\n",
    "    user_list.append(user)\n",
    "    likes_dislikes = review.find_all('span',{'class':\"_1_BQL8\"})\n",
    "    likes_dislikes = [e.get_text() for e in likes_dislikes]\n",
    "    likes_dislikes_list.append(likes_dislikes)\n",
    "    "
   ]
  },
  {
   "cell_type": "code",
   "execution_count": 43,
   "metadata": {},
   "outputs": [
    {
     "name": "stdout",
     "output_type": "stream",
     "text": [
      "[['Excellent', 'Does the job', 'Awesome', 'Great product', 'Highly recommended', 'Horrible', 'Simply awesome', 'Worth every penny', 'Excellent', 'Really Nice']]\n",
      "[[\"Its amazing with the price tag being very minimal. My sister bought the FHD M10 so the physical expectation was already satisfied. I had doubts about the graphic since I will be getting the M10 (HD), but to my surprise the performance is awesomely good. I guess the only difference with the FHD will be picture and visual reproduction is a bit lower. Hardware performance is the same and I'm glad I purchased this terrific tablet. Battery backup is amazing. My 5 years old son uses the tablet for ...READ MORE\", \"okay so I have been using this for more than 2weeks. I have installed pubg, temple run, score hero, adventure island.. All game were working good except the pubg, (not so smooth, I don't expect also in 430snapdragon😄)! so I uninstalled temple run and then play the other games, trust me It got hang sometimes! in the middle of the Instagram, word, powerpoint, & in the middle of other game also(When network is on) ! but all games are running smoothly when I'm playing (not the pubg, slow movemen...READ MORE\", \"It's the best buy in this range, with plenty of features, gifted it to my dad, he loved it.... 😊READ MORE\", 'Its too good im loving it It make my work easy. I thank to filpkartREAD MORE', 'Worth the money. I bought thia for reading books and watching movies. Did not want to buy kindle due to cost. The screen display is reasonably good. Lightweight  is the best part .easy to use.long battery life.gewat bluetooth connectivity and wifi also .definitely worth buying for the price.READ MORE', \"Totally useless product from Lenovo, many of Android App are not computable with it. Don't buy with productivity in mind. It's only good for kids entertainment purpose. Being Android 9 we expect best performance and value for money. But it has tablet version of Android 9 which most of popular app like MyJio etc are computable.READ MORE\", 'If u are looking affordable, perfect tab for entertainment then u should go for this tab...lenovo is best company after samsung😇 excellent in working..camera is average but overall this tab is perfect❤U will fully satisfy after buying this product 😎READ MORE', 'This is a decent product at this price.Efficient, fast and good for small purpose.Speed is really nice and the best part is the look is sleek and delicate.Like itREAD MORE', 'Overall product is good for your home use or online classes for children with big screen. Speaker voice could be more, as voice from speaker is up to level and not excellent inspire of Dolby features. Yes, if you are looking to buy. For large volume you can connect with external speakers.READ MORE', 'GoodREAD MORE']]\n",
      "[['Reverngam Sumpi', 'Sangita Das', 'Akansha Gurung', 'Flipkart Customer', 'Anish Nair', 'Flipkart Customer', 'Flipkart Customer', 'Amit Shrivastava', 'Ashish Shah', 'Raja N']]\n",
      "[['137', '21', '199', '55', '75', '14', '3', '1', '3', '2', '1', '0', '4', '5', '2', '2', '2', '3', '76', '4']]\n"
     ]
    }
   ],
   "source": [
    "print(review_header_list)\n",
    "print(detailed_review_list)\n",
    "print(user_list)\n",
    "print(likes_dislikes_list)"
   ]
  },
  {
   "cell_type": "code",
   "execution_count": 51,
   "metadata": {},
   "outputs": [
    {
     "data": {
      "text/plain": [
       "'www.flipkart.com/lenovo-tab-m10-hd-2-gb-ram-32-rom-10-1-inch-wi-fi-only-tablet-slate-black/product-reviews/itm7b4e455b25c7e?pid=TABFKHFQEFDJEHBA&lid=LSTTABFKHFQEFDJEHBA39PSEP&marketplace=FLIPKART'"
      ]
     },
     "execution_count": 51,
     "metadata": {},
     "output_type": "execute_result"
    }
   ],
   "source": [
    "baseUrl = \"https://www.flipkart.com\"\n",
    "all_reviews_link = review_soup.find('div',{'class':\"swINJg _3nrCtb\"})\n",
    "all_reviews_link.find_parent()\n",
    "all_reviews_link.get_text()\n",
    "data = all_reviews_link.find_parent().get('href')\n",
    "url = baseUrl + data\n",
    "url"
   ]
  },
  {
   "cell_type": "code",
   "execution_count": 52,
   "metadata": {},
   "outputs": [
    {
     "name": "stdout",
     "output_type": "stream",
     "text": [
      "Requirement already satisfied: flask in c:\\users\\lenovo\\anaconda3\\lib\\site-packages (1.1.2)\n",
      "Requirement already satisfied: Werkzeug>=0.15 in c:\\users\\lenovo\\anaconda3\\lib\\site-packages (from flask) (1.0.1)\n",
      "Requirement already satisfied: itsdangerous>=0.24 in c:\\users\\lenovo\\anaconda3\\lib\\site-packages (from flask) (1.1.0)\n",
      "Requirement already satisfied: click>=5.1 in c:\\users\\lenovo\\anaconda3\\lib\\site-packages (from flask) (7.1.2)\n",
      "Requirement already satisfied: Jinja2>=2.10.1 in c:\\users\\lenovo\\anaconda3\\lib\\site-packages (from flask) (2.11.2)\n",
      "Requirement already satisfied: MarkupSafe>=0.23 in c:\\users\\lenovo\\anaconda3\\lib\\site-packages (from Jinja2>=2.10.1->flask) (1.1.1)\n"
     ]
    }
   ],
   "source": [
    "!pip install flask"
   ]
  },
  {
   "cell_type": "code",
   "execution_count": null,
   "metadata": {},
   "outputs": [],
   "source": []
  }
 ],
 "metadata": {
  "kernelspec": {
   "display_name": "Python 3",
   "language": "python",
   "name": "python3"
  },
  "language_info": {
   "codemirror_mode": {
    "name": "ipython",
    "version": 3
   },
   "file_extension": ".py",
   "mimetype": "text/x-python",
   "name": "python",
   "nbconvert_exporter": "python",
   "pygments_lexer": "ipython3",
   "version": "3.7.7"
  }
 },
 "nbformat": 4,
 "nbformat_minor": 4
}
